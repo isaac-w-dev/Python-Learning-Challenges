{
 "cells": [
  {
   "cell_type": "markdown",
   "id": "5cd90a72",
   "metadata": {},
   "source": [
    "## Converting Hexadecimal to Decimal\n"
   ]
  },
  {
   "cell_type": "code",
   "execution_count": 24,
   "id": "6f856dbf-cb3b-46f6-974c-2183088fc2eb",
   "metadata": {},
   "outputs": [
    {
     "data": {
      "text/plain": [
       "291"
      ]
     },
     "execution_count": 24,
     "metadata": {},
     "output_type": "execute_result"
    }
   ],
   "source": [
    "hexNumbers = {\n",
    "    '0': 0, '1': 1, '2': 2, '3': 3, '4': 4, '5': 5, '6': 6, '7': 7, '8': 8, '9': 9,\n",
    "    'A': 10, 'B': 11, 'C': 12, 'D': 13, 'E': 14, 'F': 15\n",
    "}\n",
    "def hexToDec(hex):\n",
    "    length = len(hex)\n",
    "    placeholder = 0\n",
    "    count = 1\n",
    "    for x in hex:\n",
    "        if x.upper() not in hexNumbers:\n",
    "            return \"Not a hexidecimal\"\n",
    "        placeholder += hexNumbers[x.upper()] * 16 ** (length - count)\n",
    "        count += 1\n",
    "    return placeholder\n",
    "hexToDec(\"123\")"
   ]
  },
  {
   "cell_type": "markdown",
   "id": "b204bc4e",
   "metadata": {},
   "source": [
    "### Challenge Hints!"
   ]
  },
  {
   "cell_type": "markdown",
   "id": "41ca3358",
   "metadata": {},
   "source": [
    "**Hint 1:** The following will convert 'ABC' into a decimal:\n"
   ]
  },
  {
   "cell_type": "code",
   "execution_count": 7,
   "id": "31190f4a",
   "metadata": {},
   "outputs": [
    {
     "data": {
      "text/plain": [
       "2748"
      ]
     },
     "execution_count": 7,
     "metadata": {},
     "output_type": "execute_result"
    }
   ],
   "source": [
    "hexNumbers = {\n",
    "    '0': 0, '1': 1, '2': 2, '3': 3, '4': 4, '5': 5, '6': 6, '7': 7, '8': 8, '9': 9,\n",
    "    'A': 10, 'B': 11, 'C': 12, 'D': 13, 'E': 14, 'F': 15\n",
    "}\n",
    "\n",
    "hexNumbers['A'] * 256 + hexNumbers['B'] * 16 + hexNumbers['C'] "
   ]
  },
  {
   "cell_type": "markdown",
   "id": "61a884ee",
   "metadata": {},
   "source": [
    "**Hint 2:** You can check to see how long the hex string is with:"
   ]
  },
  {
   "cell_type": "code",
   "execution_count": 8,
   "id": "7f4a3877",
   "metadata": {},
   "outputs": [
    {
     "data": {
      "text/plain": [
       "2"
      ]
     },
     "execution_count": 8,
     "metadata": {},
     "output_type": "execute_result"
    }
   ],
   "source": [
    "hexNum = '1B'\n",
    "len(hexNum)"
   ]
  },
  {
   "cell_type": "markdown",
   "id": "2893d9ef",
   "metadata": {},
   "source": [
    "**Hint 3:** You can get the character at each position of a string like this:"
   ]
  },
  {
   "cell_type": "code",
   "execution_count": 9,
   "id": "a9cb3333",
   "metadata": {},
   "outputs": [
    {
     "name": "stdout",
     "output_type": "stream",
     "text": [
      "A\n",
      "B\n",
      "C\n"
     ]
    }
   ],
   "source": [
    "hexNum = 'ABC'\n",
    "print(hexNum[0])\n",
    "print(hexNum[1])\n",
    "print(hexNum[2])"
   ]
  },
  {
   "cell_type": "code",
   "execution_count": 10,
   "id": "cfc54187",
   "metadata": {},
   "outputs": [],
   "source": [
    "hexNumbers = {\n",
    "    '0': 0, '1': 1, '2': 2, '3': 3, '4': 4, '5': 5, '6': 6, '7': 7, '8': 8, '9': 9,\n",
    "    'A': 10, 'B': 11, 'C': 12, 'D': 13, 'E': 14, 'F': 15\n",
    "}\n",
    "\n",
    "# Converts a string hexadecimal number into an integer decimal\n",
    "# If hexNum is not a valid hexadecimal number, returns None\n",
    "def hexToDec(hexNum):\n",
    "    pass"
   ]
  },
  {
   "cell_type": "markdown",
   "id": "db14e41c-81f1-4897-8bde-cd4855060fba",
   "metadata": {},
   "source": [
    "**Hint 4**: You can tell if every character in a string is a hex character like this:\n",
    "\n"
   ]
  },
  {
   "cell_type": "code",
   "execution_count": 11,
   "id": "6d4c987e-3b52-4679-9ae6-ce3115fd5fa9",
   "metadata": {},
   "outputs": [
    {
     "name": "stdout",
     "output_type": "stream",
     "text": [
      "Z is not a hex character!\n"
     ]
    }
   ],
   "source": [
    "myString = 'ABCZ'\n",
    "for char in myString:\n",
    "    if char not in hexNumbers:\n",
    "        print(f'{char} is not a hex character!')"
   ]
  }
 ],
 "metadata": {
  "kernelspec": {
   "display_name": "Python 3",
   "language": "python",
   "name": "python3"
  },
  "language_info": {
   "codemirror_mode": {
    "name": "ipython",
    "version": 3
   },
   "file_extension": ".py",
   "mimetype": "text/x-python",
   "name": "python",
   "nbconvert_exporter": "python",
   "pygments_lexer": "ipython3",
   "version": "3.13.0"
  }
 },
 "nbformat": 4,
 "nbformat_minor": 5
}
