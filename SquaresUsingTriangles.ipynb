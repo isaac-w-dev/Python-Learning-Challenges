{
 "cells": [
  {
   "cell_type": "markdown",
   "id": "6aa3058e",
   "metadata": {},
   "source": [
    "## Squaring Up"
   ]
  },
  {
   "cell_type": "markdown",
   "id": "5af7d03e",
   "metadata": {},
   "source": [
    "**HINT 1:** Two triangles, when added together, make a square"
   ]
  },
  {
   "cell_type": "markdown",
   "id": "904577f5",
   "metadata": {},
   "source": [
    "**HINT 2:** Your two triangles will be of different sizes"
   ]
  },
  {
   "cell_type": "markdown",
   "id": "9b094dfc-9e6e-40f8-a343-aee8db57af38",
   "metadata": {},
   "source": [
    "**HINT 3:** Here are some examples for you:\n",
    "\n",
    "triangle(2) + triangle(3) = 3 + 6 = 9\n",
    "\n",
    "triangle(3) + triangle(4) = 6 + 10 = 16"
   ]
  },
  {
   "cell_type": "code",
   "execution_count": 9,
   "id": "687b1069-7a8c-46bc-b1c6-6ab94fe4a1e7",
   "metadata": {},
   "outputs": [
    {
     "data": {
      "text/plain": [
       "64"
      ]
     },
     "execution_count": 9,
     "metadata": {},
     "output_type": "execute_result"
    }
   ],
   "source": [
    "def triangle(num):\n",
    "    filler = 0\n",
    "    if num > 0 and type(num) == int:\n",
    "        while num > 0:\n",
    "            filler += num\n",
    "            num -= 1\n",
    "        return filler\n",
    "    else:\n",
    "        return \"Invalid Input\"\n",
    "def square(num):\n",
    "    return triangle(num) + triangle(num - 1)"
   ]
  }
 ],
 "metadata": {
  "kernelspec": {
   "display_name": "Python 3",
   "language": "python",
   "name": "python3"
  },
  "language_info": {
   "codemirror_mode": {
    "name": "ipython",
    "version": 3
   },
   "file_extension": ".py",
   "mimetype": "text/x-python",
   "name": "python",
   "nbconvert_exporter": "python",
   "pygments_lexer": "ipython3",
   "version": "3.13.0"
  }
 },
 "nbformat": 4,
 "nbformat_minor": 5
}
