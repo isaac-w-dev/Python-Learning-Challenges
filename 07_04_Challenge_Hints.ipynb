{
 "cells": [
  {
   "cell_type": "markdown",
   "id": "dda9c8c6",
   "metadata": {},
   "source": [
    "## Shaping Up"
   ]
  },
  {
   "cell_type": "markdown",
   "id": "f4a633c4",
   "metadata": {},
   "source": [
    "**Hint 1:** \n",
    "In the square class, the printRow function takes in an argument i, which is not used. What happens if you actually use this argument?"
   ]
  },
  {
   "cell_type": "markdown",
   "id": "0a4e8a12",
   "metadata": {},
   "source": [
    "**Hint 2:** Triangles are small at the top and big at the bottom! (Huge help, I know.) \n",
    "\n",
    "But think about it. How can you use the variable i to print out something small at the top and big at the bottom? Or, heck, make an upside-down triangle! Print out something big at the top and small at the bottom. "
   ]
  },
  {
   "cell_type": "code",
   "execution_count": 3,
   "id": "18ffc111",
   "metadata": {},
   "outputs": [
    {
     "name": "stdout",
     "output_type": "stream",
     "text": [
      "veveve\n",
      "veveve\n",
      "veveve\n"
     ]
    }
   ],
   "source": [
    "def printRow(char, qty):\n",
    "    if qty > 0 and type(qty) == int:\n",
    "        print(char * qty)\n",
    "    \n",
    "def printSquare(char, numOfRows):\n",
    "    count = 0\n",
    "    while count < numOfRows:\n",
    "        printRow(char, numOfRows)\n",
    "        count += 1\n"
   ]
  }
 ],
 "metadata": {
  "kernelspec": {
   "display_name": "Python 3",
   "language": "python",
   "name": "python3"
  },
  "language_info": {
   "codemirror_mode": {
    "name": "ipython",
    "version": 3
   },
   "file_extension": ".py",
   "mimetype": "text/x-python",
   "name": "python",
   "nbconvert_exporter": "python",
   "pygments_lexer": "ipython3",
   "version": "3.13.0"
  }
 },
 "nbformat": 4,
 "nbformat_minor": 5
}
