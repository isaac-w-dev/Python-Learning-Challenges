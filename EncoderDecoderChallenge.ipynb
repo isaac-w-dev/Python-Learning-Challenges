{
 "cells": [
  {
   "cell_type": "markdown",
   "id": "6a6c3649",
   "metadata": {},
   "source": [
    "## ASCII Art Encoding\n"
   ]
  },
  {
   "cell_type": "markdown",
   "id": "47490f41",
   "metadata": {},
   "source": [
    "### Challenge Hints!"
   ]
  },
  {
   "cell_type": "markdown",
   "id": "a8c64bd5",
   "metadata": {},
   "source": [
    "**Hint 1:** While iterating through each character of a string, we can print out when a string has \"switched\" from one character to another:"
   ]
  },
  {
   "cell_type": "code",
   "execution_count": 51,
   "id": "c3d70033",
   "metadata": {},
   "outputs": [
    {
     "name": "stdout",
     "output_type": "stream",
     "text": [
      "New character is A\n",
      "New character is B\n",
      "New character is C\n"
     ]
    }
   ],
   "source": [
    "stringVal = 'AAAAABBBBBCCCCC'\n",
    "\n",
    "prevChar = None\n",
    "for char in stringVal:\n",
    "    if char != prevChar:\n",
    "        print(f'New character is {char}')\n",
    "    prevChar = char"
   ]
  },
  {
   "cell_type": "markdown",
   "id": "54ce72f7",
   "metadata": {},
   "source": [
    "**Hint 2:** Remember that you can multiply a string by a number!"
   ]
  },
  {
   "cell_type": "code",
   "execution_count": 52,
   "id": "7ab4bd96",
   "metadata": {},
   "outputs": [
    {
     "data": {
      "text/plain": [
       "'AAAAA'"
      ]
     },
     "execution_count": 52,
     "metadata": {},
     "output_type": "execute_result"
    }
   ],
   "source": [
    "'A'*5"
   ]
  },
  {
   "cell_type": "code",
   "execution_count": 53,
   "id": "7777d38e",
   "metadata": {},
   "outputs": [
    {
     "name": "stdout",
     "output_type": "stream",
     "text": [
      "[('h', 1), ('j', 1), ('b', 1), ('l', 1), ('d', 1), ('S', 1), ('H', 1), ('b', 1), ('s', 1), ('a', 1), ('b', 2), ('h', 1), ('d', 1), ('f', 1), ('s', 1), ('f', 1), ('h', 1), ('d', 2), ('j', 4)]\n",
      "hjbldSHbsabbhdfsfhddjjjj\n"
     ]
    }
   ],
   "source": [
    "def encodeString(stringVal):\n",
    "    previousVal = None\n",
    "    count = 0\n",
    "    thisList = []\n",
    "    for char in stringVal:\n",
    "        if previousVal is None:\n",
    "            previousVal = char\n",
    "            continue\n",
    "        count += 1\n",
    "        if char != previousVal:\n",
    "            thisList.append((previousVal, count))\n",
    "            count = 0\n",
    "        previousVal = char\n",
    "    count += 1\n",
    "    thisList.append((previousVal, count))\n",
    "    return thisList\n",
    "print(encodeString(\"hjbldSHbsabbhdfsfhddjjjj\"))\n",
    "\n",
    "def decodeString(encodedList):\n",
    "    x = 0\n",
    "    string =''\n",
    "    while x < len(encodedList):\n",
    "        item = encodedList[x]\n",
    "        string += item[0] * item[1]\n",
    "        x += 1\n",
    "    return string\n",
    "print(decodeString(encodeString(\"hjbldSHbsabbhdfsfhddjjjj\")))"
   ]
  },
  {
   "cell_type": "code",
   "execution_count": 54,
   "id": "3eee6256",
   "metadata": {},
   "outputs": [],
   "source": [
    "art = '''\n",
    "\n",
    "                                                                                \n",
    "                                                                                \n",
    "                               %%%%%%%%%%%%%%%%%%%                              \n",
    "                        %%%%%%%%%%%%%%%%%%%%%%%%%%%%%%%%%                       \n",
    "                    %%%%%%%%                         %%%%%%%%                   \n",
    "                %%%%%%%                                   %%%%%%                \n",
    "              %%%%%%                                         %%%%%%             \n",
    "           %%%%%%                                               %%%%%           \n",
    "          %%%%%                                                   %%%%%         \n",
    "        %%%%%                                                       %%%%%       \n",
    "       %%%%                 %%%%%              %%%%%                  %%%%      \n",
    "      %%%%                 %%%%%%%            %%%%%%%                  %%%%     \n",
    "     %%%%                  %%%%%%%            %%%%%%%                   %%%%    \n",
    "    %%%%                   %%%%%%%            %%%%%%%                    %%%%   \n",
    "    %%%%                    %%%%%              %%%%%                     %%%%   \n",
    "   %%%%                                                                   %%%%  \n",
    "   %%%%                                                                   %%%%  \n",
    "   %%%%                                                                   %%%%  \n",
    "   %%%%                                                      %%%%        %%%%   \n",
    "    %%%%       %%%%%%                                        %%%%%       %%%%   \n",
    "    %%%%         %%%%                                       %%%%        %%%%    \n",
    "     %%%%         %%%%                                     %%%%         %%%%    \n",
    "      %%%%         %%%%%                                  %%%%         %%%%     \n",
    "       %%%%%         %%%%%                             %%%%%         %%%%%      \n",
    "        %%%%%          %%%%%%                        %%%%%          %%%%        \n",
    "          %%%%%           %%%%%%%               %%%%%%%           %%%%%         \n",
    "            %%%%%             %%%%%%%%%%%%%%%%%%%%%             %%%%%           \n",
    "              %%%%%%%                                        %%%%%              \n",
    "                 %%%%%%%                                 %%%%%%%                \n",
    "                     %%%%%%%%%                     %%%%%%%%%                    \n",
    "                          %%%%%%%%%%%%%%%%%%%%%%%%%%%%%                         \n",
    "                                   %%%%%%%%%%%%                                 \n",
    "                                                                                \n",
    "                                                                                 \n",
    "\n",
    "'''"
   ]
  },
  {
   "cell_type": "code",
   "execution_count": 50,
   "id": "3f58e0cc",
   "metadata": {},
   "outputs": [
    {
     "ename": "NameError",
     "evalue": "name 'art' is not defined",
     "output_type": "error",
     "traceback": [
      "\u001b[1;31m---------------------------------------------------------------------------\u001b[0m",
      "\u001b[1;31mNameError\u001b[0m                                 Traceback (most recent call last)",
      "Cell \u001b[1;32mIn[50], line 1\u001b[0m\n\u001b[1;32m----> 1\u001b[0m encodedString \u001b[38;5;241m=\u001b[39m encodeString(\u001b[43mart\u001b[49m)\n",
      "\u001b[1;31mNameError\u001b[0m: name 'art' is not defined"
     ]
    }
   ],
   "source": [
    "encodedString = encodeString(art)"
   ]
  },
  {
   "cell_type": "code",
   "execution_count": 8,
   "id": "942d4ff8",
   "metadata": {},
   "outputs": [],
   "source": [
    "decodeString(encodedString)"
   ]
  },
  {
   "cell_type": "code",
   "execution_count": null,
   "id": "e1485f53",
   "metadata": {},
   "outputs": [],
   "source": []
  }
 ],
 "metadata": {
  "kernelspec": {
   "display_name": "Python 3",
   "language": "python",
   "name": "python3"
  },
  "language_info": {
   "codemirror_mode": {
    "name": "ipython",
    "version": 3
   },
   "file_extension": ".py",
   "mimetype": "text/x-python",
   "name": "python",
   "nbconvert_exporter": "python",
   "pygments_lexer": "ipython3",
   "version": "3.13.0"
  }
 },
 "nbformat": 4,
 "nbformat_minor": 5
}
